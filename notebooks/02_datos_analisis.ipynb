{
 "cells": [
  {
   "cell_type": "markdown",
   "id": "f03b42bd-331c-4bbf-81aa-1836a11613f8",
   "metadata": {},
   "source": [
    "## Notebook de Analisis y Limpieza de Datos\n",
    "Este notebook tiene como objetivo limpiar y preprocesar un conjunto de datos meteorológicos que incluye columnas numéricas y categóricas. \n",
    "\n",
    "Se aplicarán varios pasos de limpieza, como el manejo de valores nulos, la interpolación de valores faltantes, la detección de outliers, y la conversión de tipos de datos. \n",
    "\n",
    "Finalmente, se exportará el conjunto de datos limpio y listo el modelado de machine learning.\n"
   ]
  },
  {
   "cell_type": "markdown",
   "id": "106a3796-9eb0-4355-875a-fba5eb959515",
   "metadata": {},
   "source": [
    "### Carga del dataset"
   ]
  },
  {
   "cell_type": "code",
   "execution_count": 73,
   "id": "d0430868-6375-4339-98f7-914cf5cd4dfa",
   "metadata": {},
   "outputs": [
    {
     "data": {
      "text/plain": [
       "(    Año Mes Día Temp Media Temp Máxima Hora Temp Max Minuto Temp Max  \\\n",
       " 0  2016   1   1       10.3        11.2            20              40   \n",
       " 1  2016   1   2       11.8        18.1            19              30   \n",
       " 2  2016   1   3       11.3        16.4            15               0   \n",
       " 3  2016   1   4       12.5        18.6            15              20   \n",
       " 4  2016   1   5       12.0        18.8            15              15   \n",
       " \n",
       "   Temp Mínima Hora Temp Min Minuto Temp Min  ... Hora Viento Minuto Viento  \\\n",
       " 0         9.2             1              30  ...           6            55   \n",
       " 1         8.6             0              55  ...          15            20   \n",
       " 2         5.6             5              40  ...          10            35   \n",
       " 3         6.1             2              50  ...          17            30   \n",
       " 4         6.1            23              55  ...          16            15   \n",
       " \n",
       "   Presión Media Lluvia Diaria Radiación Máxima Hora Radiación Máxima  \\\n",
       " 0        1004.6           0.0            256.0                    12   \n",
       " 1         996.2           0.2            798.0                    13   \n",
       " 2        1004.3           0.0           1186.0                    15   \n",
       " 3        1004.1           0.0           1096.0                    12   \n",
       " 4        1005.4           0.0           1055.0                    15   \n",
       " \n",
       "   Minuto Radiación Mínima UV Máximo Hora UV Máximo Minuto UV Máximo  \n",
       " 0                      25       1.5             12               25  \n",
       " 1                      20       4.9             13               25  \n",
       " 2                       0       5.1             13               50  \n",
       " 3                      55       5.0             12               55  \n",
       " 4                      10       4.3             15               15  \n",
       " \n",
       " [5 rows x 24 columns],\n",
       " Año                        object\n",
       " Mes                        object\n",
       " Día                        object\n",
       " Temp Media                 object\n",
       " Temp Máxima                object\n",
       " Hora Temp Max              object\n",
       " Minuto Temp Max            object\n",
       " Temp Mínima                object\n",
       " Hora Temp Min              object\n",
       " Minuto Temp Min            object\n",
       " Viento Medio               object\n",
       " Dirección Viento           object\n",
       " Ráfaga de Viento           object\n",
       " Dirección de Ráfaga        object\n",
       " Hora Viento                object\n",
       " Minuto Viento              object\n",
       " Presión Media              object\n",
       " Lluvia Diaria              object\n",
       " Radiación Máxima           object\n",
       " Hora Radiación Máxima      object\n",
       " Minuto Radiación Mínima    object\n",
       " UV Máximo                  object\n",
       " Hora UV Máximo             object\n",
       " Minuto UV Máximo           object\n",
       " dtype: object,\n",
       "          Año   Mes   Día Temp Media Temp Máxima Hora Temp Max Minuto Temp Max  \\\n",
       " count   4229  4173  4172       4172        4166          3998            3998   \n",
       " unique   101   109   116        311         296            72              35   \n",
       " top     2020     1     C       km/h        km/h            15              30   \n",
       " freq     397   310   209        209         209           790             288   \n",
       " \n",
       "        Temp Mínima Hora Temp Min Minuto Temp Min  ... Hora Viento  \\\n",
       " count         3998          3886            3571  ...        3303   \n",
       " unique         330           122             119  ...          28   \n",
       " top           W/m2            23               0  ...          14   \n",
       " freq           209           525             386  ...         322   \n",
       " \n",
       "        Minuto Viento Presión Media Lluvia Diaria Radiación Máxima  \\\n",
       " count           3303          3247          3247             3247   \n",
       " unique            16           515            71              995   \n",
       " top                0         pres.           0.0              rad   \n",
       " freq             287            56          1841               56   \n",
       " \n",
       "        Hora Radiación Máxima Minuto Radiación Mínima UV Máximo Hora UV Máximo  \\\n",
       " count                   3243                    3243      3243           3243   \n",
       " unique                    14                      14        95             11   \n",
       " top                       13                      15       0.0             13   \n",
       " freq                    1277                     314       648           1293   \n",
       " \n",
       "        Minuto UV Máximo  \n",
       " count              3243  \n",
       " unique               14  \n",
       " top                   5  \n",
       " freq                546  \n",
       " \n",
       " [4 rows x 24 columns])"
      ]
     },
     "execution_count": 73,
     "metadata": {},
     "output_type": "execute_result"
    }
   ],
   "source": [
    "import pandas as pd\n",
    "\n",
    "# Cargar el dataset procesado\n",
    "df = pd.read_csv('../data/processed/datos_procesados.csv')\n",
    "\n",
    "# Verificar las primeras filas del dataset y los tipos de datos\n",
    "df.head(), df.dtypes, df.describe()"
   ]
  },
  {
   "cell_type": "markdown",
   "id": "c344397a-d872-4b7a-97dd-1dd54cac78d7",
   "metadata": {},
   "source": [
    "### 2. Verificar si hay Valores Faltantes\n",
    "   \n",
    ">Verificamos si hay valores faltantes en las columnas del dataset."
   ]
  },
  {
   "cell_type": "code",
   "execution_count": 36,
   "id": "e6fe3461-2485-4a9f-bd0a-6cbbbcdb90e2",
   "metadata": {},
   "outputs": [
    {
     "data": {
      "text/plain": [
       "Año                          0\n",
       "Mes                         56\n",
       "Día                         57\n",
       "Temp Media                  57\n",
       "Temp Máxima                 63\n",
       "Hora Temp Max              231\n",
       "Minuto Temp Max            231\n",
       "Temp Mínima                231\n",
       "Hora Temp Min              343\n",
       "Minuto Temp Min            658\n",
       "Viento Medio               658\n",
       "Dirección Viento           868\n",
       "Ráfaga de Viento           868\n",
       "Dirección de Ráfaga        868\n",
       "Hora Viento                926\n",
       "Minuto Viento              926\n",
       "Presión Media              982\n",
       "Lluvia Diaria              982\n",
       "Radiación Máxima           982\n",
       "Hora Radiación Máxima      986\n",
       "Minuto Radiación Mínima    986\n",
       "UV Máximo                  986\n",
       "Hora UV Máximo             986\n",
       "Minuto UV Máximo           986\n",
       "dtype: int64"
      ]
     },
     "execution_count": 36,
     "metadata": {},
     "output_type": "execute_result"
    }
   ],
   "source": [
    "# Verificar si hay valores faltantes\n",
    "df.isnull().sum()"
   ]
  },
  {
   "cell_type": "markdown",
   "id": "8e0c1203-0393-478f-96c8-9b4a7a1c0e10",
   "metadata": {},
   "source": [
    "### 3. Definir Columnas por Tipo de Dato\n",
    ">Definimos las columnas por tipo de dato (entero, flotante, y categórico) para realizar las conversiones necesarias."
   ]
  },
  {
   "cell_type": "code",
   "execution_count": 37,
   "id": "9cbabb76-dc4e-4e06-b52c-9ec25135c91f",
   "metadata": {},
   "outputs": [],
   "source": [
    "# Listas de columnas por tipo de dato requerido\n",
    "columnas_int = [\n",
    "    'Año', 'Mes', 'Día', 'Hora Temp Max', 'Minuto Temp Max', \n",
    "    'Hora Temp Min', 'Minuto Temp Min', 'Hora Viento', 'Minuto Viento', \n",
    "    'Hora Radiación Máxima', 'Minuto Radiación Mínima', 'Hora UV Máximo', 'Minuto UV Máximo'\n",
    "]\n",
    "\n",
    "columnas_float = [\n",
    "    'Temp Media', 'Temp Máxima', 'Temp Mínima', 'Viento Medio', 'Ráfaga de Viento', \n",
    "    'Presión Media', 'Lluvia Diaria', 'Radiación Máxima', 'UV Máximo'\n",
    "]\n",
    "\n",
    "columnas_categorical = ['Dirección Viento', 'Dirección de Ráfaga']\n",
    "\n"
   ]
  },
  {
   "cell_type": "markdown",
   "id": "8360ad2f-75d9-45a4-82e9-2017963747d2",
   "metadata": {},
   "source": [
    "### 4. Convertir Columnas a Tipos Numéricos\n",
    ">Convertimos las columnas de tipo flotante y entero a su tipo correspondiente, forzando a NaN aquellos valores no convertibles."
   ]
  },
  {
   "cell_type": "code",
   "execution_count": 38,
   "id": "3fb43611-1b75-4767-bff0-950c3fe7c63a",
   "metadata": {},
   "outputs": [],
   "source": [
    "# Convertir las columnas a float, forzando valores no convertibles a NaN\n",
    "for col in columnas_float:\n",
    "    df[col] = pd.to_numeric(df[col], errors='coerce')\n",
    "\n",
    "# Convertir las columnas a int, forzando valores no convertibles a NaN y redondeando si es necesario\n",
    "for col in columnas_int:\n",
    "    df[col] = pd.to_numeric(df[col], errors='coerce').round()\n"
   ]
  },
  {
   "cell_type": "markdown",
   "id": "4dfbb1d5-202b-44b3-8966-43a7d877baa1",
   "metadata": {},
   "source": [
    "### 5. Rellenar Valores Nulos con Interpolación\n",
    ">Llenamos los valores nulos en las columnas numéricas mediante interpolación lineal."
   ]
  },
  {
   "cell_type": "code",
   "execution_count": 47,
   "id": "841c21fe-defb-4a1f-b899-f5293eaa0f6f",
   "metadata": {},
   "outputs": [],
   "source": [
    "# Rellenar valores numéricos nulos mediante interpolación\n",
    "df[columnas_float + columnas_int] = df[columnas_float + columnas_int].interpolate(method='linear')\n",
    "\n",
    "# Convertir las columnas a Int64 después de la interpolación y el redondeo\n",
    "for col in columnas_int:\n",
    "    df[col] = df[col].round().astype('Int64')\n",
    "    \n",
    "# Rellenar valores nulos restantes en columnas categóricas (ejemplo con moda)\n",
    "df['Dirección Viento'] = df['Dirección Viento'].fillna(df['Dirección Viento'].mode()[0])\n",
    "df['Dirección de Ráfaga'] = df['Dirección de Ráfaga'].fillna(df['Dirección de Ráfaga'].mode()[0])"
   ]
  },
  {
   "cell_type": "markdown",
   "id": "b8af80ae-81e0-49b6-b75f-e4adeb0f6380",
   "metadata": {},
   "source": [
    "### 6. Convertir Columnas Categóricas\n",
    ">Convertimos las columnas categóricas a tipo category."
   ]
  },
  {
   "cell_type": "code",
   "execution_count": 48,
   "id": "1b248c58-adcb-452c-a7b0-04c9845c1e09",
   "metadata": {},
   "outputs": [],
   "source": [
    "\n",
    "# Convertir las columnas categóricas\n",
    "for col in columnas_categorical:\n",
    "    df[col] = df[col].astype('category')"
   ]
  },
  {
   "cell_type": "markdown",
   "id": "78ec2e97-3f48-4873-b5ab-1a1fe1b25a84",
   "metadata": {},
   "source": [
    "### 7. Rellenar Valores Nulos en Columnas Categóricas con la Moda\n",
    ">Rellenamos los valores nulos en las columnas categóricas utilizando la moda de cada columna."
   ]
  },
  {
   "cell_type": "code",
   "execution_count": 49,
   "id": "e169c498-eff3-4f0e-8cb6-5d819ac7761f",
   "metadata": {},
   "outputs": [],
   "source": [
    "# Opcional: Rellenar valores nulos restantes en columnas categóricas (ejemplo con moda)\n",
    "for col in columnas_categorical:\n",
    "    df[col] = df[col].fillna(df[col].mode()[0])"
   ]
  },
  {
   "cell_type": "markdown",
   "id": "23179dc1-c925-4d83-b205-8fd52fb60d29",
   "metadata": {},
   "source": [
    "### 8. Filtrar el Dataset por Año\n",
    ">Filtramos las filas donde la columna 'Año' esté entre 2016 y 2024, inclusive."
   ]
  },
  {
   "cell_type": "code",
   "execution_count": 63,
   "id": "b168556c-43f9-4275-a7b9-066ae3dc1715",
   "metadata": {},
   "outputs": [],
   "source": [
    "df = df[df['Año'].between(2016, 2024)]\n",
    "\n",
    "# Eliminar filas donde 'Mes' o 'Día' tienen valores negativos\n",
    "df = df[(df['Mes'] >= 0) & (df['Día'] >= 0)]\n"
   ]
  },
  {
   "cell_type": "markdown",
   "id": "48dcc327-1b42-436b-a839-f60e4765ad3a",
   "metadata": {},
   "source": [
    "### 9. Detectar y Corregir Outliers\n",
    ">Usamos el método del rango intercuartílico (IQR) para detectar y corregir los outliers en las columnas numéricas."
   ]
  },
  {
   "cell_type": "code",
   "execution_count": 64,
   "id": "0104fa43-95c9-4cf5-95b5-b55d8fe5ebb4",
   "metadata": {},
   "outputs": [],
   "source": [
    "# Función para detectar outliers usando el IQR\n",
    "def detect_outliers(df, columnas):\n",
    "    for col in columnas:\n",
    "        Q1 = df[col].quantile(0.25)\n",
    "        Q3 = df[col].quantile(0.75)\n",
    "        IQR = Q3 - Q1\n",
    "        # Definir los límites superior e inferior para los outliers\n",
    "        lower_bound = Q1 - 1.5 * IQR\n",
    "        upper_bound = Q3 + 1.5 * IQR\n",
    "        \n",
    "        # Reemplazar los outliers por los valores dentro del rango permitido\n",
    "        df[col] = df[col].clip(lower=lower_bound, upper=upper_bound)\n",
    "    return df\n",
    "\n",
    "# Listado de columnas a revisar (en este caso numéricas)\n",
    "columnas_a_verificar = [\n",
    "    'Temp Media', 'Temp Máxima', 'Temp Mínima', 'Viento Medio', 'Ráfaga de Viento', \n",
    "    'Presión Media', 'Lluvia Diaria', 'Radiación Máxima', 'UV Máximo'\n",
    "]\n",
    "\n",
    "# Llamamos a la función para detectar y corregir outliers\n",
    "df = detect_outliers(df, columnas_a_verificar)\n",
    "\n"
   ]
  },
  {
   "cell_type": "markdown",
   "id": "9901766a-aff6-4829-a070-f27dc96a5784",
   "metadata": {},
   "source": [
    "### 10. Verificar Resultados Finales\n",
    ">Verificamos los resultados después de la limpieza y preprocesamiento."
   ]
  },
  {
   "cell_type": "code",
   "execution_count": 65,
   "id": "808d3861-31df-4141-b21f-29b011c71369",
   "metadata": {},
   "outputs": [
    {
     "data": {
      "text/plain": [
       "Año                        0\n",
       "Mes                        0\n",
       "Día                        0\n",
       "Temp Media                 0\n",
       "Temp Máxima                0\n",
       "Hora Temp Max              0\n",
       "Minuto Temp Max            0\n",
       "Temp Mínima                0\n",
       "Hora Temp Min              0\n",
       "Minuto Temp Min            0\n",
       "Viento Medio               0\n",
       "Dirección Viento           0\n",
       "Ráfaga de Viento           0\n",
       "Dirección de Ráfaga        0\n",
       "Hora Viento                0\n",
       "Minuto Viento              0\n",
       "Presión Media              0\n",
       "Lluvia Diaria              0\n",
       "Radiación Máxima           0\n",
       "Hora Radiación Máxima      0\n",
       "Minuto Radiación Mínima    0\n",
       "UV Máximo                  0\n",
       "Hora UV Máximo             0\n",
       "Minuto UV Máximo           0\n",
       "dtype: int64"
      ]
     },
     "execution_count": 65,
     "metadata": {},
     "output_type": "execute_result"
    }
   ],
   "source": [
    "# Verifica los resultados\n",
    "df.describe()\n",
    "\n",
    "# Verificar valores nulos nuevamente\n",
    "df.isnull().sum()\n"
   ]
  },
  {
   "cell_type": "code",
   "execution_count": 69,
   "id": "e982255a-2c3f-4f27-bb73-9f4104e4a1fe",
   "metadata": {},
   "outputs": [],
   "source": [
    "# Exportar el dataframe limpio y procesado\n",
    "df.to_csv('../data/processed/datos_limpios.csv', index=False)"
   ]
  },
  {
   "cell_type": "code",
   "execution_count": 72,
   "id": "a22395f4-3e54-4a25-8313-8ec0fb0ef7cc",
   "metadata": {},
   "outputs": [
    {
     "data": {
      "text/html": [
       "<div>\n",
       "<style scoped>\n",
       "    .dataframe tbody tr th:only-of-type {\n",
       "        vertical-align: middle;\n",
       "    }\n",
       "\n",
       "    .dataframe tbody tr th {\n",
       "        vertical-align: top;\n",
       "    }\n",
       "\n",
       "    .dataframe thead th {\n",
       "        text-align: right;\n",
       "    }\n",
       "</style>\n",
       "<table border=\"1\" class=\"dataframe\">\n",
       "  <thead>\n",
       "    <tr style=\"text-align: right;\">\n",
       "      <th></th>\n",
       "      <th>Año</th>\n",
       "      <th>Mes</th>\n",
       "      <th>Día</th>\n",
       "      <th>Temp Media</th>\n",
       "      <th>Temp Máxima</th>\n",
       "      <th>Hora Temp Max</th>\n",
       "      <th>Minuto Temp Max</th>\n",
       "      <th>Temp Mínima</th>\n",
       "      <th>Hora Temp Min</th>\n",
       "      <th>Minuto Temp Min</th>\n",
       "      <th>...</th>\n",
       "      <th>Hora Viento</th>\n",
       "      <th>Minuto Viento</th>\n",
       "      <th>Presión Media</th>\n",
       "      <th>Lluvia Diaria</th>\n",
       "      <th>Radiación Máxima</th>\n",
       "      <th>Hora Radiación Máxima</th>\n",
       "      <th>Minuto Radiación Mínima</th>\n",
       "      <th>UV Máximo</th>\n",
       "      <th>Hora UV Máximo</th>\n",
       "      <th>Minuto UV Máximo</th>\n",
       "    </tr>\n",
       "  </thead>\n",
       "  <tbody>\n",
       "    <tr>\n",
       "      <th>0</th>\n",
       "      <td>2016</td>\n",
       "      <td>1</td>\n",
       "      <td>1</td>\n",
       "      <td>10.3</td>\n",
       "      <td>11.2</td>\n",
       "      <td>20</td>\n",
       "      <td>40</td>\n",
       "      <td>9.2</td>\n",
       "      <td>1</td>\n",
       "      <td>30</td>\n",
       "      <td>...</td>\n",
       "      <td>6</td>\n",
       "      <td>55</td>\n",
       "      <td>1004.6</td>\n",
       "      <td>0.0</td>\n",
       "      <td>256.0</td>\n",
       "      <td>12</td>\n",
       "      <td>25</td>\n",
       "      <td>1.5</td>\n",
       "      <td>12</td>\n",
       "      <td>25</td>\n",
       "    </tr>\n",
       "    <tr>\n",
       "      <th>1</th>\n",
       "      <td>2016</td>\n",
       "      <td>1</td>\n",
       "      <td>2</td>\n",
       "      <td>11.8</td>\n",
       "      <td>18.1</td>\n",
       "      <td>19</td>\n",
       "      <td>30</td>\n",
       "      <td>8.6</td>\n",
       "      <td>0</td>\n",
       "      <td>55</td>\n",
       "      <td>...</td>\n",
       "      <td>15</td>\n",
       "      <td>20</td>\n",
       "      <td>996.2</td>\n",
       "      <td>0.2</td>\n",
       "      <td>798.0</td>\n",
       "      <td>13</td>\n",
       "      <td>20</td>\n",
       "      <td>4.9</td>\n",
       "      <td>13</td>\n",
       "      <td>25</td>\n",
       "    </tr>\n",
       "    <tr>\n",
       "      <th>2</th>\n",
       "      <td>2016</td>\n",
       "      <td>1</td>\n",
       "      <td>3</td>\n",
       "      <td>11.3</td>\n",
       "      <td>16.4</td>\n",
       "      <td>15</td>\n",
       "      <td>0</td>\n",
       "      <td>5.6</td>\n",
       "      <td>5</td>\n",
       "      <td>40</td>\n",
       "      <td>...</td>\n",
       "      <td>10</td>\n",
       "      <td>35</td>\n",
       "      <td>1004.3</td>\n",
       "      <td>0.0</td>\n",
       "      <td>1186.0</td>\n",
       "      <td>15</td>\n",
       "      <td>0</td>\n",
       "      <td>5.1</td>\n",
       "      <td>13</td>\n",
       "      <td>50</td>\n",
       "    </tr>\n",
       "    <tr>\n",
       "      <th>3</th>\n",
       "      <td>2016</td>\n",
       "      <td>1</td>\n",
       "      <td>4</td>\n",
       "      <td>12.5</td>\n",
       "      <td>18.6</td>\n",
       "      <td>15</td>\n",
       "      <td>20</td>\n",
       "      <td>6.1</td>\n",
       "      <td>2</td>\n",
       "      <td>50</td>\n",
       "      <td>...</td>\n",
       "      <td>17</td>\n",
       "      <td>30</td>\n",
       "      <td>1004.1</td>\n",
       "      <td>0.0</td>\n",
       "      <td>1096.0</td>\n",
       "      <td>12</td>\n",
       "      <td>55</td>\n",
       "      <td>5.0</td>\n",
       "      <td>12</td>\n",
       "      <td>55</td>\n",
       "    </tr>\n",
       "    <tr>\n",
       "      <th>4</th>\n",
       "      <td>2016</td>\n",
       "      <td>1</td>\n",
       "      <td>5</td>\n",
       "      <td>12.0</td>\n",
       "      <td>18.8</td>\n",
       "      <td>15</td>\n",
       "      <td>15</td>\n",
       "      <td>6.1</td>\n",
       "      <td>23</td>\n",
       "      <td>55</td>\n",
       "      <td>...</td>\n",
       "      <td>16</td>\n",
       "      <td>15</td>\n",
       "      <td>1005.4</td>\n",
       "      <td>0.0</td>\n",
       "      <td>1055.0</td>\n",
       "      <td>15</td>\n",
       "      <td>10</td>\n",
       "      <td>4.3</td>\n",
       "      <td>15</td>\n",
       "      <td>15</td>\n",
       "    </tr>\n",
       "  </tbody>\n",
       "</table>\n",
       "<p>5 rows × 24 columns</p>\n",
       "</div>"
      ],
      "text/plain": [
       "    Año  Mes  Día  Temp Media  Temp Máxima  Hora Temp Max  Minuto Temp Max  \\\n",
       "0  2016    1    1        10.3         11.2             20               40   \n",
       "1  2016    1    2        11.8         18.1             19               30   \n",
       "2  2016    1    3        11.3         16.4             15                0   \n",
       "3  2016    1    4        12.5         18.6             15               20   \n",
       "4  2016    1    5        12.0         18.8             15               15   \n",
       "\n",
       "   Temp Mínima  Hora Temp Min  Minuto Temp Min  ...  Hora Viento  \\\n",
       "0          9.2              1               30  ...            6   \n",
       "1          8.6              0               55  ...           15   \n",
       "2          5.6              5               40  ...           10   \n",
       "3          6.1              2               50  ...           17   \n",
       "4          6.1             23               55  ...           16   \n",
       "\n",
       "  Minuto Viento  Presión Media Lluvia Diaria  Radiación Máxima  \\\n",
       "0            55         1004.6           0.0             256.0   \n",
       "1            20          996.2           0.2             798.0   \n",
       "2            35         1004.3           0.0            1186.0   \n",
       "3            30         1004.1           0.0            1096.0   \n",
       "4            15         1005.4           0.0            1055.0   \n",
       "\n",
       "   Hora Radiación Máxima  Minuto Radiación Mínima  UV Máximo  Hora UV Máximo  \\\n",
       "0                     12                       25        1.5              12   \n",
       "1                     13                       20        4.9              13   \n",
       "2                     15                        0        5.1              13   \n",
       "3                     12                       55        5.0              12   \n",
       "4                     15                       10        4.3              15   \n",
       "\n",
       "   Minuto UV Máximo  \n",
       "0                25  \n",
       "1                25  \n",
       "2                50  \n",
       "3                55  \n",
       "4                15  \n",
       "\n",
       "[5 rows x 24 columns]"
      ]
     },
     "execution_count": 72,
     "metadata": {},
     "output_type": "execute_result"
    }
   ],
   "source": [
    "df.head()"
   ]
  },
  {
   "cell_type": "markdown",
   "id": "300cf807-8940-4bb6-b16b-26585985c4d7",
   "metadata": {},
   "source": [
    "## Visualizacion de los datos"
   ]
  },
  {
   "cell_type": "code",
   "execution_count": null,
   "id": "3a31b40b-e418-4b28-9163-9477c2fb67a2",
   "metadata": {},
   "outputs": [],
   "source": []
  },
  {
   "cell_type": "code",
   "execution_count": null,
   "id": "91523930-13e9-459c-99bc-4cc53c075bef",
   "metadata": {},
   "outputs": [],
   "source": []
  }
 ],
 "metadata": {
  "kernelspec": {
   "display_name": "Python 3 (ipykernel)",
   "language": "python",
   "name": "python3"
  },
  "language_info": {
   "codemirror_mode": {
    "name": "ipython",
    "version": 3
   },
   "file_extension": ".py",
   "mimetype": "text/x-python",
   "name": "python",
   "nbconvert_exporter": "python",
   "pygments_lexer": "ipython3",
   "version": "3.12.3"
  }
 },
 "nbformat": 4,
 "nbformat_minor": 5
}
