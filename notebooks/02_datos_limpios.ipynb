{
 "cells": [
  {
   "cell_type": "markdown",
   "id": "f03b42bd-331c-4bbf-81aa-1836a11613f8",
   "metadata": {},
   "source": [
    "### Notebook de Limpieza de Datos\n",
    "En este notebook, se realiza la limpieza de los datos, por ejemplo, verificando valores faltantes, eliminando duplicados o realizando otras transformaciones."
   ]
  },
  {
   "cell_type": "code",
   "execution_count": 20,
   "id": "d0430868-6375-4339-98f7-914cf5cd4dfa",
   "metadata": {},
   "outputs": [
    {
     "data": {
      "text/plain": [
       "(    Año Mes Día Temp Media Temp Máxima Hora Temp Max Minuto Temp Max  \\\n",
       " 0  2016   1   1       10.3        11.2            20              40   \n",
       " 1  2016   1   2       11.8        18.1            19              30   \n",
       " 2  2016   1   3       11.3        16.4            15               0   \n",
       " 3  2016   1   4       12.5        18.6            15              20   \n",
       " 4  2016   1   5       12.0        18.8            15              15   \n",
       " \n",
       "   Temp Mínima Hora Temp Min Minuto Temp Min  ... Hora Viento Minuto Viento  \\\n",
       " 0         9.2             1              30  ...           6            55   \n",
       " 1         8.6             0              55  ...          15            20   \n",
       " 2         5.6             5              40  ...          10            35   \n",
       " 3         6.1             2              50  ...          17            30   \n",
       " 4         6.1            23              55  ...          16            15   \n",
       " \n",
       "   Presión Media Lluvia Diaria Radiación Máxima Hora Radiación Máxima  \\\n",
       " 0        1004.6           0.0            256.0                    12   \n",
       " 1         996.2           0.2            798.0                    13   \n",
       " 2        1004.3           0.0           1186.0                    15   \n",
       " 3        1004.1           0.0           1096.0                    12   \n",
       " 4        1005.4           0.0           1055.0                    15   \n",
       " \n",
       "   Minuto Radiación Mínima UV Máximo Hora UV Máximo Minuto UV Máximo  \n",
       " 0                      25       1.5             12               25  \n",
       " 1                      20       4.9             13               25  \n",
       " 2                       0       5.1             13               50  \n",
       " 3                      55       5.0             12               55  \n",
       " 4                      10       4.3             15               15  \n",
       " \n",
       " [5 rows x 24 columns],\n",
       " Año                        object\n",
       " Mes                        object\n",
       " Día                        object\n",
       " Temp Media                 object\n",
       " Temp Máxima                object\n",
       " Hora Temp Max              object\n",
       " Minuto Temp Max            object\n",
       " Temp Mínima                object\n",
       " Hora Temp Min              object\n",
       " Minuto Temp Min            object\n",
       " Viento Medio               object\n",
       " Dirección Viento           object\n",
       " Ráfaga de Viento           object\n",
       " Dirección de Ráfaga        object\n",
       " Hora Viento                object\n",
       " Minuto Viento              object\n",
       " Presión Media              object\n",
       " Lluvia Diaria              object\n",
       " Radiación Máxima           object\n",
       " Hora Radiación Máxima      object\n",
       " Minuto Radiación Mínima    object\n",
       " UV Máximo                  object\n",
       " Hora UV Máximo             object\n",
       " Minuto UV Máximo           object\n",
       " dtype: object)"
      ]
     },
     "execution_count": 20,
     "metadata": {},
     "output_type": "execute_result"
    }
   ],
   "source": [
    "import pandas as pd\n",
    "\n",
    "# Cargar el dataset procesado\n",
    "df = pd.read_csv('../data/processed/datos_procesados.csv')\n",
    "\n",
    "# Verificar las primeras filas del dataset y los tipos de datos\n",
    "df.head(), df.dtypes"
   ]
  },
  {
   "cell_type": "code",
   "execution_count": 21,
   "id": "e6fe3461-2485-4a9f-bd0a-6cbbbcdb90e2",
   "metadata": {},
   "outputs": [
    {
     "data": {
      "text/plain": [
       "Año                          0\n",
       "Mes                         56\n",
       "Día                         57\n",
       "Temp Media                  57\n",
       "Temp Máxima                 63\n",
       "Hora Temp Max              231\n",
       "Minuto Temp Max            231\n",
       "Temp Mínima                231\n",
       "Hora Temp Min              343\n",
       "Minuto Temp Min            658\n",
       "Viento Medio               658\n",
       "Dirección Viento           868\n",
       "Ráfaga de Viento           868\n",
       "Dirección de Ráfaga        868\n",
       "Hora Viento                926\n",
       "Minuto Viento              926\n",
       "Presión Media              982\n",
       "Lluvia Diaria              982\n",
       "Radiación Máxima           982\n",
       "Hora Radiación Máxima      986\n",
       "Minuto Radiación Mínima    986\n",
       "UV Máximo                  986\n",
       "Hora UV Máximo             986\n",
       "Minuto UV Máximo           986\n",
       "dtype: int64"
      ]
     },
     "execution_count": 21,
     "metadata": {},
     "output_type": "execute_result"
    }
   ],
   "source": [
    "# Verificar si hay valores faltantes\n",
    "df.isnull().sum()"
   ]
  },
  {
   "cell_type": "code",
   "execution_count": 11,
   "id": "36ee6f0e-0e27-4970-85e7-362dc6eca121",
   "metadata": {},
   "outputs": [
    {
     "name": "stdout",
     "output_type": "stream",
     "text": [
      "Año                           int64\n",
      "Mes                           int64\n",
      "Día                           int64\n",
      "Temp Media                  float64\n",
      "Temp Máxima                 float64\n",
      "Hora Temp Max                 int64\n",
      "Minuto Temp Max               int64\n",
      "Temp Mínima                 float64\n",
      "Hora Temp Min                 int64\n",
      "Minuto Temp Min               int64\n",
      "Viento Medio                float64\n",
      "Dirección Viento           category\n",
      "Ráfaga de Viento            float64\n",
      "Dirección de Ráfaga        category\n",
      "Hora Viento                   int64\n",
      "Minuto Viento                 int64\n",
      "Presión Media               float64\n",
      "Lluvia Diaria               float64\n",
      "Radiación Máxima            float64\n",
      "Hora Radiación Máxima         int64\n",
      "Minuto Radiación Mínima       int64\n",
      "UV Máximo                   float64\n",
      "Hora UV Máximo                int64\n",
      "Minuto UV Máximo              int64\n",
      "dtype: object\n"
     ]
    }
   ],
   "source": [
    "# Convertir las columnas Año, Mes, Día a tipo entero, manejando NaN correctamente\n",
    "df['Año'] = df['Año'].apply(lambda x: int(x) if pd.notna(x) else 0)\n",
    "df['Mes'] = df['Mes'].apply(lambda x: int(x) if pd.notna(x) else 0)\n",
    "df['Día'] = df['Día'].apply(lambda x: int(x) if pd.notna(x) else 0)\n",
    "\n",
    "# Para las columnas de hora y minuto, primero convertimos a float y luego a Int64\n",
    "hora_cols = ['Hora Temp Max', 'Hora Temp Min', 'Hora Viento', 'Hora Radiación Máxima', 'Hora UV Máximo']\n",
    "minuto_cols = ['Minuto Temp Max', 'Minuto Temp Min', 'Minuto Viento', 'Minuto Radiación Mínima', 'Minuto UV Máximo']\n",
    "\n",
    "for col in hora_cols + minuto_cols:\n",
    "    df[col] = df[col].apply(lambda x: int(x) if pd.notna(x) else 0)\n",
    "\n",
    "# Verificar los tipos de datos después de las conversiones\n",
    "print(df.dtypes)\n",
    "\n"
   ]
  },
  {
   "cell_type": "code",
   "execution_count": 12,
   "id": "fa4ed603-233a-4369-ad98-26c4fb7d79dd",
   "metadata": {},
   "outputs": [
    {
     "name": "stdout",
     "output_type": "stream",
     "text": [
      "               Año          Mes          Día   Temp Media  Temp Máxima  \\\n",
      "count  4229.000000  4229.000000  4229.000000  3399.000000  3185.000000   \n",
      "mean   1524.221565     3.578387    12.984157     6.473610    10.797049   \n",
      "std     869.106579    11.404609    11.545680     5.067641     5.482157   \n",
      "min      -3.000000   -67.000000   -14.000000   -11.900000    -8.800000   \n",
      "25%    2016.000000     1.000000     2.000000     3.100000     6.500000   \n",
      "50%    2018.000000     5.000000    12.000000     6.400000    11.000000   \n",
      "75%    2021.000000     9.000000    22.000000     9.700000    15.100000   \n",
      "max    2024.000000    30.000000    47.000000    31.300000    30.700000   \n",
      "\n",
      "       Hora Temp Max  Minuto Temp Max  Temp Mínima  Hora Temp Min  \\\n",
      "count    4229.000000      4229.000000  3290.000000    4229.000000   \n",
      "mean       12.849373        21.475053    33.376960      34.496808   \n",
      "std        13.549107        18.909138   175.783662     230.413196   \n",
      "min         0.000000         0.000000   -14.900000       0.000000   \n",
      "25%         9.000000         0.000000    -0.900000       0.000000   \n",
      "50%        14.000000        20.000000     1.700000       5.000000   \n",
      "75%        15.000000        40.000000     4.800000      10.000000   \n",
      "max       138.000000        55.000000  1019.400000    2024.000000   \n",
      "\n",
      "       Minuto Temp Min  ...  Hora Viento  Minuto Viento  Presión Media  \\\n",
      "count      4229.000000  ...  4229.000000    4229.000000    3185.000000   \n",
      "mean         41.203358  ...     9.450461      20.190352    1001.086028   \n",
      "std         138.653756  ...     7.619668      18.998218      10.952264   \n",
      "min           0.000000  ...     0.000000       0.000000     956.500000   \n",
      "25%           0.000000  ...     0.000000       0.000000     993.600000   \n",
      "50%          20.000000  ...    12.000000      15.000000    1000.900000   \n",
      "75%          40.000000  ...    15.000000      35.000000    1008.600000   \n",
      "max        1376.000000  ...    24.000000      55.000000    1035.500000   \n",
      "\n",
      "       Lluvia Diaria  Radiación Máxima  Hora Radiación Máxima  \\\n",
      "count    3185.000000       3185.000000            4229.000000   \n",
      "mean        0.774568        592.271586               9.806574   \n",
      "std         1.914542        341.429959               5.721703   \n",
      "min         0.000000         14.000000               0.000000   \n",
      "25%         0.000000        269.000000               9.000000   \n",
      "50%         0.000000        561.000000              13.000000   \n",
      "75%         0.400000        902.000000              13.000000   \n",
      "max        21.200000       1376.000000              19.000000   \n",
      "\n",
      "       Minuto Radiación Mínima    UV Máximo  Hora UV Máximo  Minuto UV Máximo  \n",
      "count              4229.000000  3185.000000     4229.000000       4229.000000  \n",
      "mean                 20.364152     2.577708        7.712225         16.970915  \n",
      "std                  18.698102     2.342257        6.332157         18.741743  \n",
      "min                   0.000000     0.000000        0.000000          0.000000  \n",
      "25%                   0.000000     0.600000        0.000000          0.000000  \n",
      "50%                  15.000000     1.900000       12.000000         10.000000  \n",
      "75%                  35.000000     4.600000       13.000000         35.000000  \n",
      "max                  55.000000    10.900000       16.000000         55.000000  \n",
      "\n",
      "[8 rows x 22 columns]\n"
     ]
    }
   ],
   "source": [
    "print(df.describe())"
   ]
  },
  {
   "cell_type": "code",
   "execution_count": null,
   "id": "67c32244-6d54-4732-887d-849b5ade8f91",
   "metadata": {},
   "outputs": [],
   "source": []
  }
 ],
 "metadata": {
  "kernelspec": {
   "display_name": "Python 3 (ipykernel)",
   "language": "python",
   "name": "python3"
  },
  "language_info": {
   "codemirror_mode": {
    "name": "ipython",
    "version": 3
   },
   "file_extension": ".py",
   "mimetype": "text/x-python",
   "name": "python",
   "nbconvert_exporter": "python",
   "pygments_lexer": "ipython3",
   "version": "3.12.3"
  }
 },
 "nbformat": 4,
 "nbformat_minor": 5
}
