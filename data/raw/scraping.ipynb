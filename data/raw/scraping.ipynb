{
 "cells": [
  {
   "cell_type": "markdown",
   "id": "6b0a5c52-7c71-4988-8725-72641ee37807",
   "metadata": {},
   "source": [
    "## Web Scraping para Boletines Meteorológicos\n",
    "\n",
    "Este notebook realiza web scraping de los boletines meteorológicos publicados en el sitio de la Estación Astronómica Río Grande (EARG) y exporta los datos extraídos a un archivo Excel.\n",
    "\n",
    "### Importación de librerías\n",
    ">Primero, importamos las bibliotecas necesarias para realizar las solicitudes HTTP, procesar el contenido HTML y manejar los datos."
   ]
  },
  {
   "cell_type": "code",
   "execution_count": 5,
   "id": "fd2f214a-3279-48e4-8db5-2fb2f9038a37",
   "metadata": {},
   "outputs": [],
   "source": [
    "import requests\n",
    "from bs4 import BeautifulSoup\n",
    "import pandas as pd\n",
    "from datetime import datetime"
   ]
  },
  {
   "cell_type": "markdown",
   "id": "e478ffc5-9c5e-4063-9f2f-4a8850c62b18",
   "metadata": {},
   "source": [
    "### Función para generar las URLs a partir de un rango de fechas\n",
    ">La función `generar_urls` toma un rango de fechas (inicio y fin) y genera las URLs para los boletines meteorológicos correspondientes."
   ]
  },
  {
   "cell_type": "code",
   "execution_count": 6,
   "id": "27ef23cc-c68c-49d9-9829-2c7e8d788aec",
   "metadata": {},
   "outputs": [],
   "source": [
    "def generar_urls(fecha_inicio, fecha_fin):\n",
    "    urls = []\n",
    "    fecha_actual = fecha_inicio\n",
    "    while fecha_actual <= fecha_fin:\n",
    "        anio_mes = fecha_actual.strftime('%Y%m')\n",
    "        urls.append(f'http://earg.fcaglp.unlp.edu.ar/meteorologia/boletin/boletin{anio_mes}.html')\n",
    "        urls.append(f'http://earg.fcaglp.unlp.edu.ar/meteorologia/boletin/boletin{anio_mes}w.html')\n",
    "        fecha_actual = fecha_actual.replace(\n",
    "            year=fecha_actual.year + 1 if fecha_actual.month == 12 else fecha_actual.year,\n",
    "            month=1 if fecha_actual.month == 12 else fecha_actual.month + 1\n",
    "        )\n",
    "    return urls"
   ]
  },
  {
   "cell_type": "markdown",
   "id": "6022fe73-6d24-47ad-a240-7b6f56fcf13f",
   "metadata": {},
   "source": [
    "### Función para extraer datos de una URL\n",
    ">La función `extraer_datos` toma una URL, realiza una solicitud HTTP para obtener el contenido de la página, y luego extrae los datos de los boletines meteorológicos utilizando `BeautifulSoup`."
   ]
  },
  {
   "cell_type": "code",
   "execution_count": 7,
   "id": "552969eb-8a76-431f-97ae-e9f36aab158d",
   "metadata": {},
   "outputs": [],
   "source": [
    "def extraer_datos(url):\n",
    "    try:\n",
    "        respuesta = requests.get(url)\n",
    "        respuesta.raise_for_status()\n",
    "        soup = BeautifulSoup(respuesta.content, 'html.parser')\n",
    "        contenido = soup.find('pre')\n",
    "        if contenido is None:\n",
    "            return None\n",
    "        filas = [fila.split() for fila in contenido.get_text().split('\\n')[3:-4] if fila.strip()]\n",
    "        return filas\n",
    "    except requests.RequestException as e:\n",
    "        print(f\"Error al acceder a {url}: {e}\")\n",
    "        return None\n"
   ]
  },
  {
   "cell_type": "markdown",
   "id": "bf305f71-dcaf-48b6-a8c1-46c8f07ee670",
   "metadata": {},
   "source": [
    "### Función principal del script\n",
    ">La función `main` solicita al usuario que ingrese el año y mes de inicio y fin, genera las URLs de los boletines, extrae los datos y los guarda en un archivo Excel."
   ]
  },
  {
   "cell_type": "code",
   "execution_count": 8,
   "id": "ae2aaaa6-2ce7-49af-acdf-57e796c879f6",
   "metadata": {},
   "outputs": [],
   "source": [
    "def main():\n",
    "    # Solicita al usuario que ingrese el año y mes de inicio y fin\n",
    "    anio_inicio = int(input('Ingrese el año de inicio (YYYY): '))\n",
    "    mes_inicio = int(input('Ingrese el mes de inicio (MM): '))\n",
    "    anio_fin = int(input('Ingrese el año de fin (YYYY): '))\n",
    "    mes_fin = int(input('Ingrese el mes de fin (MM): '))\n",
    "\n",
    "    # Convierte las entradas de año y mes a objetos de fecha\n",
    "    fecha_inicio = datetime(anio_inicio, mes_inicio, 1)\n",
    "    fecha_fin = datetime(anio_fin, mes_fin, 1)\n",
    "    urls = generar_urls(fecha_inicio, fecha_fin)\n",
    "\n",
    "    datos_completos = []\n",
    "    urls_procesadas = set()\n",
    "\n",
    "    # Recorre cada URL generada\n",
    "    for url in urls:\n",
    "        if url in urls_procesadas:\n",
    "            continue\n",
    "        print(f'Procesando {url}')\n",
    "        datos = extraer_datos(url)\n",
    "        if datos:\n",
    "            datos_completos.extend(datos)\n",
    "            urls_procesadas.add(url)\n",
    "\n",
    "    # Si se encontraron datos, los exporta a un archivo Excel\n",
    "    if datos_completos:\n",
    "        df = pd.DataFrame(datos_completos)\n",
    "        archivo_salida = f'boletin_{anio_inicio}_{str(mes_inicio).zfill(2)}-{anio_fin}_{str(mes_fin).zfill(2)}.xlsx'\n",
    "        df.to_excel(archivo_salida, index=False, header=False)\n",
    "        print(f'Datos exportados a {archivo_salida}')\n",
    "    else:\n",
    "        print('No se encontraron datos en las URLs especificadas')\n"
   ]
  },
  {
   "cell_type": "markdown",
   "id": "c9fadc1d-3c87-419f-9abd-c1241b46cdab",
   "metadata": {},
   "source": [
    "### Ejecutar el script principal\n",
    ">Este bloque de código ejecuta la función principal `main` para obtener los datos del boletin climatico"
   ]
  },
  {
   "cell_type": "code",
   "execution_count": null,
   "id": "dd64c8ad-ad42-425f-b6ec-3179b6488c46",
   "metadata": {},
   "outputs": [],
   "source": [
    "main()"
   ]
  }
 ],
 "metadata": {
  "kernelspec": {
   "display_name": "Python 3 (ipykernel)",
   "language": "python",
   "name": "python3"
  },
  "language_info": {
   "codemirror_mode": {
    "name": "ipython",
    "version": 3
   },
   "file_extension": ".py",
   "mimetype": "text/x-python",
   "name": "python",
   "nbconvert_exporter": "python",
   "pygments_lexer": "ipython3",
   "version": "3.12.3"
  }
 },
 "nbformat": 4,
 "nbformat_minor": 5
}
